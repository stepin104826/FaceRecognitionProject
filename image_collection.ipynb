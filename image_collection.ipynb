{
 "cells": [
  {
   "cell_type": "code",
   "execution_count": 2,
   "id": "c8fedc1a",
   "metadata": {},
   "outputs": [],
   "source": [
    "import cv2 as cv"
   ]
  },
  {
   "cell_type": "markdown",
   "id": "fe0973d7",
   "metadata": {},
   "source": [
    "## Video capturing and storing the data "
   ]
  },
  {
   "cell_type": "code",
   "execution_count": 8,
   "id": "9c812e66",
   "metadata": {},
   "outputs": [
    {
     "name": "stdout",
     "output_type": "stream",
     "text": [
      "Enter you ID: 2\n",
      "Dataset Collection done!\n"
     ]
    }
   ],
   "source": [
    "capture = cv.VideoCapture(0) # Webcam Capture\n",
    "id = input(\"Enter you ID: \")\n",
    "count = 0\n",
    "while True:\n",
    "    isTrue, frame = capture.read()\n",
    "    gray = cv.cvtColor(frame, cv.COLOR_BGR2GRAY)\n",
    "    \n",
    "    haar_classifier = cv.CascadeClassifier(\"haar_face_classifier.xml\")\n",
    "    haar_classifier1 = cv.CascadeClassifier(\"haar_profile_classifier.xml\")\n",
    "    \n",
    "    facebox = haar_classifier.detectMultiScale(gray, scaleFactor = 1.3, minNeighbors = 7)\n",
    "    facebox1 = haar_classifier1.detectMultiScale(gray, scaleFactor = 1.3, minNeighbors = 7)\n",
    "    \n",
    "    for (x,y,w,h) in facebox:\n",
    "        count+=1\n",
    "        cv.imwrite(\"face_datasets/User.\"+str(id)+\".\"+str(count)+\".jpg\", img = gray[y:y+h, x:x+w])\n",
    "        cv.rectangle(frame, (x,y), (x+w,y+h), color = (0,255,0), thickness = 2)\n",
    "        \n",
    "    for (x,y,w,h) in facebox1:\n",
    "        count+=1\n",
    "        cv.imwrite(\"face_datasets/User.\"+str(id)+\".\"+str(count)+\".jpg\", img = gray[y:y+h, x:x+w])\n",
    "        cv.rectangle(frame, (x,y), (x+w,y+h), color = (255,0,0), thickness = 2)   \n",
    "        \n",
    "    cv.imshow(\"Detected Faces\",frame)\n",
    "    \n",
    "    key = cv.waitKey(1)\n",
    "    if count > 500:\n",
    "        break\n",
    "        \n",
    "capture.release()\n",
    "cv.destroyAllWindows()\n",
    "print(\"Dataset Collection done!\")"
   ]
  },
  {
   "cell_type": "code",
   "execution_count": null,
   "id": "463ab952",
   "metadata": {},
   "outputs": [],
   "source": []
  },
  {
   "cell_type": "code",
   "execution_count": null,
   "id": "f14264fa",
   "metadata": {},
   "outputs": [],
   "source": []
  },
  {
   "cell_type": "code",
   "execution_count": null,
   "id": "7edc2940",
   "metadata": {},
   "outputs": [],
   "source": []
  }
 ],
 "metadata": {
  "kernelspec": {
   "display_name": "Python 3 (ipykernel)",
   "language": "python",
   "name": "python3"
  },
  "language_info": {
   "codemirror_mode": {
    "name": "ipython",
    "version": 3
   },
   "file_extension": ".py",
   "mimetype": "text/x-python",
   "name": "python",
   "nbconvert_exporter": "python",
   "pygments_lexer": "ipython3",
   "version": "3.9.12"
  }
 },
 "nbformat": 4,
 "nbformat_minor": 5
}
