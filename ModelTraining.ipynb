{
 "cells": [
  {
   "cell_type": "code",
   "execution_count": 5,
   "id": "993df329",
   "metadata": {},
   "outputs": [],
   "source": [
    "import cv2 as cv\n",
    "import numpy as np"
   ]
  },
  {
   "cell_type": "code",
   "execution_count": 9,
   "id": "020014b4",
   "metadata": {},
   "outputs": [
    {
     "name": "stdout",
     "output_type": "stream",
     "text": [
      "1002\n",
      "1002\n"
     ]
    }
   ],
   "source": [
    "import os\n",
    "images = []\n",
    "labels = []\n",
    "path = \"face_datasets\"\n",
    "\n",
    "def get_train_data(path):\n",
    "    for file in os.listdir(path):\n",
    "        ID = file.split('.')[1]\n",
    "        labels.append(int(ID))\n",
    "        img_path = os.path.join(path,file)\n",
    "        img_array = cv.imread(img_path)\n",
    "        img_array = cv.cvtColor(img_array, cv.COLOR_BGR2GRAY)\n",
    "        images.append(img_array)\n",
    "#         cv.imshow(\"Face\",img_array)\n",
    "#         cv.waitKey(0)\n",
    "        \n",
    "    return images,labels\n",
    "\n",
    "X,Y = get_train_data(path)\n",
    "print(len(X))\n",
    "print(len(Y))"
   ]
  },
  {
   "cell_type": "code",
   "execution_count": 10,
   "id": "f2a56c4a",
   "metadata": {},
   "outputs": [],
   "source": [
    "# Create an object of the LBPH Face Recognizer class\n",
    "recognizer = cv.face.LBPHFaceRecognizer_create()\n",
    "recognizer.train(X,np.array(Y))\n",
    "recognizer.write(\"Trainer.yml\")"
   ]
  },
  {
   "cell_type": "code",
   "execution_count": null,
   "id": "33c90a55",
   "metadata": {},
   "outputs": [],
   "source": []
  },
  {
   "cell_type": "code",
   "execution_count": null,
   "id": "b523d4ac",
   "metadata": {},
   "outputs": [],
   "source": []
  },
  {
   "cell_type": "code",
   "execution_count": null,
   "id": "341712d6",
   "metadata": {},
   "outputs": [],
   "source": []
  },
  {
   "cell_type": "code",
   "execution_count": null,
   "id": "b2b4895d",
   "metadata": {},
   "outputs": [],
   "source": []
  },
  {
   "cell_type": "code",
   "execution_count": null,
   "id": "ce79ff60",
   "metadata": {},
   "outputs": [],
   "source": []
  },
  {
   "cell_type": "code",
   "execution_count": null,
   "id": "f82aba14",
   "metadata": {},
   "outputs": [],
   "source": []
  }
 ],
 "metadata": {
  "kernelspec": {
   "display_name": "Python 3 (ipykernel)",
   "language": "python",
   "name": "python3"
  },
  "language_info": {
   "codemirror_mode": {
    "name": "ipython",
    "version": 3
   },
   "file_extension": ".py",
   "mimetype": "text/x-python",
   "name": "python",
   "nbconvert_exporter": "python",
   "pygments_lexer": "ipython3",
   "version": "3.9.12"
  }
 },
 "nbformat": 4,
 "nbformat_minor": 5
}
