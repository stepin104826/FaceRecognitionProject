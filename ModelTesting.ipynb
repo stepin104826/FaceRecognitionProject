{
 "cells": [
  {
   "cell_type": "code",
   "execution_count": 3,
   "id": "4d3cd51e",
   "metadata": {},
   "outputs": [],
   "source": [
    "import cv2 as cv\n",
    "capture = cv.VideoCapture(0) # Webcam Capture\n",
    "\n",
    "haar_classifier = cv.CascadeClassifier(\"haar_face_classifier.xml\")\n",
    "haar_classifier1 = cv.CascadeClassifier(\"haar_profile_classifier.xml\")\n",
    "\n",
    "recognizer = cv.face.LBPHFaceRecognizer_create()\n",
    "recognizer.read(\"Trainer.yml\")\n",
    "\n",
    "names = [\"Unknown\",\"Srikar\",\"RDJ\"]\n",
    "\n",
    "while True:\n",
    "    isTrue, frame = capture.read()\n",
    "    gray = cv.cvtColor(frame, cv.COLOR_BGR2GRAY)\n",
    "  \n",
    "    facebox = haar_classifier.detectMultiScale(gray, scaleFactor = 1.3, minNeighbors = 5)\n",
    "    facebox1 = haar_classifier1.detectMultiScale(gray, scaleFactor = 1.3, minNeighbors = 5)\n",
    "\n",
    "    for (x,y,w,h) in facebox:\n",
    "        predicted, confidence = recognizer.predict(gray[y:y+h,x:x+w])\n",
    "        if confidence > 30:\n",
    "            cv.putText(frame,names[predicted], (x,y-40), cv.FONT_HERSHEY_SCRIPT_COMPLEX, 1 , (0,255,0), 2)\n",
    "            cv.rectangle(frame, (x,y), (x+w,y+h), color = (0,255,0), thickness = 2)\n",
    "        else:\n",
    "            cv.putText(frame,\"Unknown\", (x,y-40), cv.FONT_HERSHEY_SCRIPT_COMPLEX, 1 , (0,255,0), 2)  \n",
    "            cv.rectangle(frame, (x,y), (x+w,y+h), color = (0,255,0), thickness = 2)\n",
    "        \n",
    "    for (x,y,w,h) in facebox1:\n",
    "        predicted1, confidence1 = recognizer.predict(gray[y:y+h,x:x+w])\n",
    "        if confidence > 30:\n",
    "            cv.putText(frame,names[predicted1], (x,y-40), cv.FONT_HERSHEY_SCRIPT_COMPLEX, 1 , (0,255,0), 2)\n",
    "            cv.rectangle(frame, (x,y), (x+w,y+h), color = (0,255,0), thickness = 2)\n",
    "        else:\n",
    "            cv.putText(frame,\"Unknown\", (x,y-40), cv.FONT_HERSHEY_SCRIPT_COMPLEX, 1 , (0,255,0), 2) \n",
    "            cv.rectangle(frame, (x,y), (x+w,y+h), color = (0,255,0), thickness = 2)\n",
    "            \n",
    "    cv.imshow(\"Detected Faces\",frame)\n",
    "    \n",
    "    key = cv.waitKey(1)\n",
    "    if key == ord(\"d\"):\n",
    "        break\n",
    "        \n",
    "capture.release()\n",
    "cv.destroyAllWindows()"
   ]
  },
  {
   "cell_type": "code",
   "execution_count": 4,
   "id": "26b331a9",
   "metadata": {},
   "outputs": [
    {
     "name": "stdout",
     "output_type": "stream",
     "text": [
      "Note: you may need to restart the kernel to use updated packages.\n"
     ]
    },
    {
     "name": "stderr",
     "output_type": "stream",
     "text": [
      "\n",
      "Usage:   \n",
      "  D:\\Anaconda\\python.exe -m pip uninstall [options] <package> ...\n",
      "  D:\\Anaconda\\python.exe -m pip uninstall [options] -r <requirements file> ...\n",
      "\n",
      "no such option: --user\n"
     ]
    }
   ],
   "source": [
    "pip uninstall --user opencv-python"
   ]
  },
  {
   "cell_type": "code",
   "execution_count": 5,
   "id": "d87628fa",
   "metadata": {},
   "outputs": [
    {
     "name": "stdout",
     "output_type": "stream",
     "text": [
      "Requirement already satisfied: opencv-contrib-python in c:\\users\\srika\\appdata\\roaming\\python\\python39\\site-packages (4.8.0.76)\n",
      "Requirement already satisfied: numpy>=1.17.0 in d:\\anaconda\\lib\\site-packages (from opencv-contrib-python) (1.22.4)\n",
      "Note: you may need to restart the kernel to use updated packages.\n"
     ]
    },
    {
     "name": "stderr",
     "output_type": "stream",
     "text": [
      "WARNING: Ignoring invalid distribution -rotobuf (d:\\anaconda\\lib\\site-packages)\n",
      "WARNING: Ignoring invalid distribution -rotobuf (d:\\anaconda\\lib\\site-packages)\n",
      "WARNING: Ignoring invalid distribution -rotobuf (d:\\anaconda\\lib\\site-packages)\n",
      "WARNING: Ignoring invalid distribution -rotobuf (d:\\anaconda\\lib\\site-packages)\n",
      "WARNING: Ignoring invalid distribution -rotobuf (d:\\anaconda\\lib\\site-packages)\n",
      "WARNING: Ignoring invalid distribution -rotobuf (d:\\anaconda\\lib\\site-packages)\n"
     ]
    }
   ],
   "source": [
    "pip install --user opencv-contrib-python"
   ]
  }
 ],
 "metadata": {
  "kernelspec": {
   "display_name": "Python 3 (ipykernel)",
   "language": "python",
   "name": "python3"
  },
  "language_info": {
   "codemirror_mode": {
    "name": "ipython",
    "version": 3
   },
   "file_extension": ".py",
   "mimetype": "text/x-python",
   "name": "python",
   "nbconvert_exporter": "python",
   "pygments_lexer": "ipython3",
   "version": "3.9.12"
  }
 },
 "nbformat": 4,
 "nbformat_minor": 5
}
